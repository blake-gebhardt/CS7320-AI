{
 "cells": [
  {
   "cell_type": "markdown",
   "metadata": {},
   "source": [
    "# Search: Solving a Maze Using a Goal-based Agent\n",
    "\n",
    "Student Name: Blake Gebhardt\n",
    "\n",
    "I have used the following AI tools: [list tools]\n",
    "\n",
    "I understand that my submission needs to be my own work: BWG\n",
    "\n",
    "## Instructions\n",
    "\n",
    "Total Points: Undergrads 100 / Graduate students 110\n",
    "\n",
    "Complete this notebook. Use the provided notebook cells and insert additional code and markdown cells as needed. Submit the completely rendered notebook as a PDF file. \n",
    "\n",
    "\n",
    "## Introduction\n",
    "\n",
    "The agent has a map of the maze it is in and the environment is assumed to be **deterministic, discrete, and known.** The agent must use the map to plan a path through the maze from the starting location $S$ to the goal location $G$.  This is a planing exercise for a goal-based agent, so you do not need to implement an environment, just use the map to search for a path. Once the plan is made, the agent in a deterministic environment (i.e., the transition function is deterministic with the outcome of each state/action pair fixed and no randomness) can just follow the path and does not need to care about the percepts.\n",
    "This is also called an **[open-loop system](https://en.wikipedia.org/wiki/Open-loop_controller).**\n",
    "The execution phase is trivial and we do not implement it in this exercise.\n",
    "\n",
    "Tree search algorithm implementations that you find online and used in general algorithms courses have often a different aim. These algorithms assume that you already have a tree in memory. We are interested in dynamically creating a search tree with the aim of finding a good/the best path from the root noteto the goal state. Follow the pseudo code presented in the text book (and replicated in the slides) closely. Ideally, we would like to search only a small part of the maze, i.e., create a search tree with as few nodes as possible. \n",
    "\n",
    "Several mazes for this exercise are stored as text files. Here is the small example maze:"
   ]
  },
  {
   "cell_type": "code",
   "execution_count": 1,
   "metadata": {},
   "outputs": [
    {
     "name": "stdout",
     "output_type": "stream",
     "text": [
      "XXXXXXXXXXXXXXXXXXXXXX\n",
      "X XX        X X      X\n",
      "X    XXXXXX X XXXXXX X\n",
      "XXXXXX     S  X      X\n",
      "X    X XXXXXX XX XXXXX\n",
      "X XXXX X         X   X\n",
      "X        XXX XXX   X X\n",
      "XXXXXXXXXX    XXXXXX X\n",
      "XG         XX        X\n",
      "XXXXXXXXXXXXXXXXXXXXXX\n",
      "\n"
     ]
    }
   ],
   "source": [
    "with open(\"small_maze.txt\", \"r\") as f:\n",
    "    maze_str = f.read()\n",
    "print(maze_str)"
   ]
  },
  {
   "cell_type": "markdown",
   "metadata": {},
   "source": [
    "__Note:__ The mazes above contains cycles and therefore the state space may not form proper trees unless cycles are prevented. Therfore, you will need to deal with cycle detection in your code."
   ]
  },
  {
   "cell_type": "markdown",
   "metadata": {},
   "source": [
    "## Parsing and pretty printing the maze\n",
    "\n",
    "The maze can also be displayed in color using code in the module [maze_helper.py](maze_helper.py). The code parses the string representing the maze and converts it into a `numpy` 2d array which you can use in your implementation. Position are represented as a 2-tuple of the form `(row, col)`. "
   ]
  },
  {
   "cell_type": "code",
   "execution_count": 2,
   "metadata": {
    "tags": []
   },
   "outputs": [
    {
     "name": "stdout",
     "output_type": "stream",
     "text": [
      "Position(0,0): X\n",
      "Position(8,1): G\n"
     ]
    }
   ],
   "source": [
    "import maze_helper as mh\n",
    "import matplotlib\n",
    "\n",
    "maze = mh.parse_maze(maze_str)\n",
    "\n",
    "# look at a position in the maze by subsetting the 2d array\n",
    "print(\"Position(0,0):\", maze[0, 0])\n",
    "\n",
    "# there is also a helper function called `look(maze, pos)` available\n",
    "# which uses a 2-tuple for the position.\n",
    "print(\"Position(8,1):\", mh.look(maze, (8, 1)))"
   ]
  },
  {
   "cell_type": "markdown",
   "metadata": {},
   "source": [
    "A helper function to visualize the maze is also available."
   ]
  },
  {
   "cell_type": "code",
   "execution_count": 3,
   "metadata": {},
   "outputs": [
    {
     "data": {
      "image/png": "[encoded data removed]",
      "text/plain": [
       "<Figure size 640x480 with 1 Axes>"
      ]
     },
     "metadata": {
      "image/png": {
       "height": 269,
       "width": 534
      }
     },
     "output_type": "display_data"
    }
   ],
   "source": [
    "%matplotlib inline\n",
    "%config InlineBackend.figure_format = 'retina'\n",
    "# use higher resolution images in notebook\n",
    "\n",
    "mh.show_maze(maze)"
   ]
  },
  {
   "cell_type": "markdown",
   "metadata": {},
   "source": [
    "Find the position of the start and the goal using the helper function `find_pos()`"
   ]
  },
  {
   "cell_type": "code",
   "execution_count": 4,
   "metadata": {},
   "outputs": [
    {
     "name": "stdout",
     "output_type": "stream",
     "text": [
      "Start location: (3, 11)\n",
      "Goal location: (8, 1)\n"
     ]
    }
   ],
   "source": [
    "print(\"Start location:\", mh.find_pos(maze, what = \"S\"))\n",
    "print(\"Goal location:\", mh.find_pos(maze, what = \"G\"))"
   ]
  },
  {
   "cell_type": "markdown",
   "metadata": {},
   "source": [
    "Helper function documentation."
   ]
  },
  {
   "cell_type": "code",
   "execution_count": 5,
   "metadata": {},
   "outputs": [
    {
     "name": "stdout",
     "output_type": "stream",
     "text": [
      "Help on module maze_helper:\n",
      "\n",
      "NAME\n",
      "    maze_helper\n",
      "\n",
      "DESCRIPTION\n",
      "    Code for the Maze Assignment by Michael Hahsler\n",
      "    Usage: \n",
      "        import maze_helper as mh\n",
      "        mh.show_some_mazes()\n",
      "\n",
      "FUNCTIONS\n",
      "    find_pos(maze, what='S')\n",
      "        Find start/goal in a maze and returns the first one. \n",
      "        Caution: there is no error checking!\n",
      "        \n",
      "        Parameters:\n",
      "        maze: a array with characters prodced by parse_maze()\n",
      "        what: the letter to be found ('S' for start and 'G' for goal)\n",
      "        \n",
      "        Returns:\n",
      "        a tupple (x, y) for the found position.\n",
      "    \n",
      "    look(maze, pos)\n",
      "        Look at the label of a square with the position as an array of the form (x, y).\n",
      "    \n",
      "    parse_maze(maze_str)\n",
      "        Convert a maze as a string into a 2d numpy array\n",
      "    \n",
      "    show_maze(maze, fontsize=10)\n",
      "        Display a (parsed) maze as an image.\n",
      "    \n",
      "    welcome()\n",
      "        Welcome message.\n",
      "\n",
      "FILE\n",
      "    /Users/blakegebhardt/Desktop/CS7320-AI/Search/maze_helper.py\n",
      "\n",
      "\n"
     ]
    }
   ],
   "source": [
    "help(mh)"
   ]
  },
  {
   "cell_type": "markdown",
   "metadata": {},
   "source": [
    "## Tree structure\n",
    "\n",
    "Here is an implementation of the basic node structure for the search algorithms (see Fig 3.7 on page 73). I have added a method that extracts the path from the root node to the current node. It can be used to get the path when the search is completed."
   ]
  },
  {
   "cell_type": "code",
   "execution_count": 6,
   "metadata": {},
   "outputs": [],
   "source": [
    "class Node:\n",
    "    def __init__(self, pos, parent, action, cost):\n",
    "        self.pos = tuple(pos)    # the state; positions are (row,col)\n",
    "        self.parent = parent     # reference to parent node. None means root node.\n",
    "        self.action = action     # action used in the transition function (root node has None)\n",
    "        self.cost = cost         # for uniform cost this is the depth. It is also g(n) for A* search\n",
    "\n",
    "    def __str__(self):\n",
    "        return f\"Node - pos = {self.pos}; action = {self.action}; cost = {self.cost}\"\n",
    "    \n",
    "    def get_path_from_root(self):\n",
    "        \"\"\"returns nodes on the path from the root to the current node.\"\"\"\n",
    "        node = self\n",
    "        path = [node]\n",
    "    \n",
    "        while not node.parent is None:\n",
    "            node = node.parent\n",
    "            path.append(node)\n",
    "        \n",
    "        path.reverse()\n",
    "        \n",
    "        return(path)"
   ]
  },
  {
   "cell_type": "markdown",
   "metadata": {},
   "source": [
    "If needed, then you can add more fields to the class like the heuristic value $h(n)$ or $f(n)$.\n",
    "\n",
    "Examples for how to create and use a tree and information on memory management can be found [here](../HOWTOs/trees.ipynb)."
   ]
  },
  {
   "cell_type": "code",
   "execution_count": 7,
   "metadata": {},
   "outputs": [],
   "source": [
    "import pathlib\n",
    "import random\n",
    "import numpy as np\n",
    "from matplotlib import colors\n",
    "from matplotlib import animation, rc\n",
    "from IPython.display import HTML\n",
    "import matplotlib.pyplot as plt\n",
    "from matplotlib import colors\n",
    "\n",
    "rc('animation', html='html5')\n",
    "\n",
    "# numpy comparison warnings\n",
    "import warnings\n",
    "warnings.simplefilter(action='ignore', category=FutureWarning)\n",
    "\n",
    "class helper:\n",
    "    @classmethod\n",
    "    def get_maze(cls, text):\n",
    "        with open(str(text), \"r\") as f:\n",
    "            new_maze = f.read()\n",
    "        return mh.parse_maze(new_maze)\n",
    "\n",
    "    @classmethod\n",
    "    def get_children(cls, node: Node, maze, step_size=0):\n",
    "        # print('getting children for:', node)\n",
    "        directions = [(1, 0), (0, 1), (-1, 0), (0, -1)]\n",
    "        x = node.pos[0]\n",
    "        y = node.pos[1]\n",
    "        res = []\n",
    "        for direction in directions:\n",
    "            if len(maze) > x + direction[0] >= 0 and len(maze[0]) > y + direction[1] >= 0:\n",
    "                if mh.look(maze, (x + direction[0], y + direction[1])) != 'X':\n",
    "                    res.append(Node((x + direction[0], y + direction[1]), node, None, node.cost + step_size))\n",
    "        return res\n",
    "\n",
    "    @classmethod\n",
    "    def paint(cls, path, maze, value):\n",
    "        for val in path:\n",
    "            if maze[val.pos[0]][val.pos[1]] != 'S' and maze[val.pos[0]][val.pos[1]] != 'G':\n",
    "                maze[val.pos[0]][val.pos[1]] = value\n",
    "\n",
    "    @classmethod\n",
    "    def maze_to_matrix(cls, maze):\n",
    "        \"\"\"convert a maze a numeric numpy array for visualization via imshow.\"\"\"\n",
    "        # make a deep copy first so the original maze is not changed\n",
    "        maze = np.copy(maze)\n",
    "        # Converts all tile types to integers\n",
    "        maze[maze == ' '] = 0\n",
    "        maze[maze == 'X'] = 1  # wall\n",
    "        maze[maze == 'S'] = 2  # start\n",
    "        maze[maze == 'G'] = 3  # goal\n",
    "        maze[maze == 'P'] = 4  # position/final path\n",
    "        maze[maze == '.'] = 5  # explored squares\n",
    "        maze[maze == 'F'] = 6  # frontier\n",
    "        maze = maze.astype(int)\n",
    "        return maze\n",
    "\n",
    "    @classmethod\n",
    "    def animate_maze(cls, result, fileName, repeat=False):\n",
    "        \"\"\"Build an animation from a list of mazes. Assumes that results has the elements:\n",
    "        path, reached, actions and maze_anim with a list of maze arrays.\"\"\"\n",
    "        if result['path'] is not None:\n",
    "            print(f\"Path length: {len(result['path']) - 1}\")\n",
    "            print(f\"Reached squares: {len(result['reached'])}\")\n",
    "            # print(f\"Action sequence: {result['actions']}\")\n",
    "        else:\n",
    "            print(\"No solution found.\")\n",
    "\n",
    "        mazes = result['maze_anim']\n",
    "        cmap = colors.ListedColormap(['white', 'black', 'blue', 'green', 'red', 'gray', 'orange'])\n",
    "        goal = mh.find_pos(mazes[0], 'G')\n",
    "        start = mh.find_pos(mazes[0], 'S')\n",
    "        mazes = [self.maze_to_matrix(m) for m in mazes]\n",
    "\n",
    "        fig, ax = mh.plt.subplots()\n",
    "        im = ax.imshow(self.maze_to_matrix(mazes[0]), cmap=cmap,\n",
    "                       norm=colors.BoundaryNorm(list(range(cmap.N + 1)), cmap.N))\n",
    "        mh.plt.text(start[1], start[0], \"S\", fontsize=10, color=\"white\", horizontalalignment='center',\n",
    "                     verticalalignment='center')\n",
    "        mh.plt.text(goal[1], goal[0], \"G\", fontsize=10, color=\"white\", horizontalalignment='center',\n",
    "                     verticalalignment='center')\n",
    "\n",
    "        def step(i):\n",
    "            im.set_array(self.maze_to_matrix(mazes[i]))\n",
    "            return [im]\n",
    "\n",
    "        ani = animation.FuncAnimation(\n",
    "            fig,\n",
    "            step,\n",
    "            frames=len(mazes),\n",
    "            repeat=repeat\n",
    "        )\n",
    "\n",
    "        mh.plt.close()\n",
    "        ani.save('gifs/' + fileName, writer='ffmeg')  # return ani\n"
   ]
  },
  {
   "cell_type": "markdown",
   "metadata": {},
   "source": [
    "# Tasks\n",
    "\n",
    "The goal is to:\n",
    "\n",
    "1. Implement the following search algorithms for solving different mazes:\n",
    "\n",
    "    - Breadth-first search (BFS)\n",
    "    - Depth-first search (DFS)\n",
    "    - Greedy best-first search (GBFS)\n",
    "    - A* search\n",
    "\n",
    "2. Run each of the above algorithms on the \n",
    "    - [small maze](small_maze.txt), \n",
    "    - [medium maze](medium_maze.txt), \n",
    "    - [large maze](large_maze.txt), \n",
    "    - [open maze](open_maze.txt),\n",
    "    - [wall maze](wall_maze.txt),\n",
    "    - [loops maze](loops_maze.txt),\n",
    "    - [empty maze](empty_maze.txt), and\n",
    "    - [empty 2_maze](empty_2_maze.txt).\n",
    "    \n",
    "3. For each problem instance and each search algorithm, report the following in a table:\n",
    "\n",
    "    - The solution and its path cost\n",
    "    - Total number of nodes expanded\n",
    "    - Maximum tree depth\n",
    "    - Maximum size of the frontier\n",
    "\n",
    "4. Display each solution by marking every maze square (or state) visited and the squares on the final path.\n",
    "\n",
    "## General [10 Points]\n",
    "\n",
    "1. Make sure that you use the latest version of this notebook. Sync your forked repository and pull the latest revision. \n",
    "2. Your implementation can use libraries like math, numpy, scipy, but not libraries that implement inteligent agents or complete search algorithms. Try to keep the code simple! In this course, we want to learn about the algorithms and we often do not need to use object-oriented design.\n",
    "3. You notebook needs to be formated professionally. \n",
    "    - Add additional markdown blocks for your description, comments in the code, add tables and use mathplotlib to produce charts where appropriate\n",
    "    - Do not show debugging output or include an excessive amount of output.\n",
    "    - Check that your PDF file is readable. For example, long lines are cut off in the PDF file. You don't have control over page breaks, so do not worry about these.\n",
    "4. Document your code. Add a short discussion of how your implementation works and your design choices."
   ]
  },
  {
   "cell_type": "markdown",
   "metadata": {},
   "source": [
    "## Task 1: Defining the search problem and determining the problem size [10 Points]\n",
    "\n",
    "Define the components of the search problem:\n",
    "\n",
    "* Initial state\n",
    "* Actions\n",
    "* Transition model\n",
    "* Goal state\n",
    "* Path cost\n",
    "\n",
    "Use verbal descriptions, variables and equations as appropriate. \n",
    "\n",
    "*Note:* You can switch the next block from code to Markdown and use formatting."
   ]
  },
  {
   "cell_type": "markdown",
   "metadata": {},
   "source": [
    "## Task 1\n",
    "\n",
    "The initial state represents the starting point in the maze from which the search begins.\n",
    "This can be denoted as a specific cell or position in the maze, in this case an (x, y) coordinate.\n",
    "\n",
    "In a maze, actions are moving in one of the possible directions: up, down, left, or right.\n",
    "\n",
    "The maze solver explores possible actions (A(S)) available in the current state. For each action considered, the transitional model  calculates the resulting state (S') by applying the action to the current state: S' = Result(S, A).\n",
    "\n",
    "The solver checks if the resulting state (S') is valid within the maze and not blocked by walls or obstacles.\n",
    "\n",
    "The goal state is obviously the goal the solver is trying to reach. It is also represented as an (x, y) coordinate.\n",
    "\n",
    "The path cost is a numerical value associated with the actions taken to reach a particular state from the initial state.\n",
    "It represents the cost or distance accumulated along the path."
   ]
  },
  {
   "cell_type": "markdown",
   "metadata": {},
   "source": [
    "Give some estimates for the problem size:\n",
    "\n",
    "* $n$: state space size\n",
    "* $d$: depth of the optimal solution\n",
    "* $m$: maximum depth of tree\n",
    "* $b$: maximum branching factor\n",
    "\n",
    "Describe how you would determine these values for a given maze."
   ]
  },
  {
   "cell_type": "markdown",
   "metadata": {},
   "source": [
    "The state space size represents the total number of possible states or configurations in the maze. In a grid-based maze, each cell or node is a potential state.\n",
    "To calculate n, count the total number of cells in the maze. If the maze is a grid of dimensions R x C (R rows and C columns), then n = R x C.\n",
    "\n",
    "The depth of the optimal solution is the minimum number of steps or moves required to reach the goal state from the initial state.\n",
    "You can find d by solving the maze optimally using any suitable algorithm and measuring the number of steps it took to reach the goal from the start.\n",
    "\n",
    "The maximum depth of the tree represents the deepest level of exploration or recursion in a search tree during the maze-solving process.\n",
    "m can be calculated by finding the longest path from the start node to any reachable node in the maze using any other traversal algorithm.\n",
    "\n",
    "The maximum branching factor is the maximum number of child nodes that any node in the search tree can have.\n",
    "You can determine b by examining the maze's structure. In our grid-based maze, b is equal to the number of adjacent cells that can be reached from a given cell. In our standard 4-connected grid (up, down, left, and right), b = 4."
   ]
  },
  {
   "cell_type": "markdown",
   "metadata": {},
   "source": [
    "## Task 2: Uninformed search: Breadth-first and depth-first [40 Points]\n",
    "\n",
    "Implement these search strategies. Follow the pseudocode in the textbook/slides. You can use the tree structure shown above to extract the final path from your solution.\n",
    "\n",
    "__Notes:__\n",
    "* You can find maze solving implementations online that use the map to store information. While this is an effective idea for this two-dimensional navigation problem, it typically cannot be used for other search problems. Therefore, follow the textbook and only store information in the tree created during search, and use the `reached` and `frontier` data structures.\n",
    "* DSF can be implemented using the BFS tree search algorithm and simply changing the order in which the frontier is expanded (this is equivalent to best-first search with path length as the criterion to expand the next node). However, to take advantage of the significantly smaller memory footprint of DFS, you need to implement DFS in a different way without a `reached` data structure and by releasing the memory for nodes that are not needed anymore. \n",
    "* If DFS does not use a `reached` data structure, then its cycle checking abilities are limited. Remember, that DSF is incomplete if cycles cannot be prevented. You will see in your experiments that open spaces are a problem."
   ]
  },
  {
   "cell_type": "code",
   "execution_count": 8,
   "metadata": {},
   "outputs": [],
   "source": [
    "import maze_helper as mh\n",
    "\n",
    "from collections import deque\n",
    "\n",
    "def breadth_first(my_maze, make_gif=False, verbose=True):\n",
    "    start = Node(mh.find_pos(my_maze, what=\"S\"), None, None, 0)\n",
    "    frontier = deque([start])\n",
    "    reached = {start}\n",
    "    frames = []\n",
    "    \n",
    "    while frontier:\n",
    "        if make_gif:\n",
    "            temp_maze = my_maze.copy()\n",
    "            helper.paint(reached, temp_maze, '.')\n",
    "            helper.paint(frontier, temp_maze, 'F')\n",
    "            frames.append(temp_maze)\n",
    "        \n",
    "        node = frontier.popleft()  # Use popleft() to efficiently remove from the front\n",
    "        children = helper.get_children(node, my_maze)\n",
    "        \n",
    "        for child in children:\n",
    "            found = mh.look(my_maze, child.pos)\n",
    "            \n",
    "            if found == 'G':\n",
    "                completed_path = child.get_path_from_root()\n",
    "                finished_maze = my_maze.copy()\n",
    "                helper.paint(completed_path, finished_maze, 'P')\n",
    "                for _ in range(20):\n",
    "                    frames.append(finished_maze)\n",
    "                mh.show_maze(finished_maze)\n",
    "                \n",
    "                if make_gif:\n",
    "                    return {\n",
    "                        'success': True,\n",
    "                        'path': completed_path,\n",
    "                        'maze_anim': frames,\n",
    "                        'reached': reached\n",
    "                    }\n",
    "                else:\n",
    "                    return\n",
    "        \n",
    "            if child not in reached:\n",
    "                frontier.append(child)\n",
    "                reached.add(child)\n",
    "    \n",
    "    print(\"Didn't find the end: bfs\")\n",
    "    \n",
    "def depth_first(my_maze, make_gif=False, verbose=True):\n",
    "    start = Node(mh.find_pos(my_maze, what=\"S\"), None, None, 0)\n",
    "    frontier = [start]\n",
    "    reached = set()\n",
    "    frames = []\n",
    "\n",
    "    while frontier:\n",
    "        node = frontier.pop()  # Pop the top node from the stack\n",
    "\n",
    "        if node in reached:\n",
    "            continue  # Skip this node if it has already been visited\n",
    "\n",
    "        reached.add(node)\n",
    "\n",
    "        if make_gif:\n",
    "            temp_maze = my_maze.copy()\n",
    "            helper.paint(reached, temp_maze, '.')\n",
    "            helper.paint(frontier, temp_maze, 'F')\n",
    "            frames.append(temp_maze)\n",
    "\n",
    "        found = mh.look(my_maze, node.pos)\n",
    "\n",
    "        if found == 'G':\n",
    "            completed_path = node.get_path_from_root()\n",
    "            finished_maze = my_maze.copy()\n",
    "            helper.paint(completed_path, finished_maze, 'P')\n",
    "            for _ in range(20):\n",
    "                frames.append(finished_maze)\n",
    "            mh.show_maze(finished_maze)\n",
    "\n",
    "            if make_gif:\n",
    "                return {\n",
    "                    'success': True,\n",
    "                    'path': completed_path,\n",
    "                    'maze_anim': frames,\n",
    "                    'reached': reached\n",
    "                }\n",
    "        else:\n",
    "            children = helper.get_children(node, my_maze)\n",
    "            for child in children:\n",
    "                if child not in reached:\n",
    "                    frontier.append(child)\n",
    "\n",
    "    print(\"Didn't find the end: dfs\")\n",
    "\n",
    "\n",
    "def dfs_no_reached(my_maze, make_gif=False, verbose=True):\n",
    "    start = Node(mh.find_pos(my_maze, what=\"S\"), None, None, 0)\n",
    "    frontier = [start]\n",
    "    \n",
    "    while len(frontier) != 0:\n",
    "        node = frontier.pop()\n",
    "        children = helper.get_children(node, my_maze)\n",
    "        \n",
    "        for child in children:\n",
    "            found = mh.look(my_maze, child.pos)\n",
    "            \n",
    "            if found == 'G':\n",
    "                completed_path = child.get_path_from_root()\n",
    "                finished_maze = my_maze.copy()\n",
    "                helper.paint(completed_path, finished_maze, 'P')\n",
    "                mh.show_maze(finished_maze)\n",
    "                return\n",
    "            \n",
    "            if child not in node.get_path_from_root():\n",
    "                frontier.append(child)\n",
    "    \n",
    "    print('Didn\\'t find the end: dfs')\n"
   ]
  },
  {
   "cell_type": "code",
   "execution_count": 9,
   "metadata": {},
   "outputs": [
    {
     "data": {
      "image/png": "[encoded data removed]",
      "text/plain": [
       "<Figure size 640x480 with 1 Axes>"
      ]
     },
     "metadata": {
      "image/png": {
       "height": 269,
       "width": 534
      }
     },
     "output_type": "display_data"
    }
   ],
   "source": [
    "#takes like 40 seconds\n",
    "my_maze = helper.get_maze('small_maze.txt') \n",
    "breadth_first(my_maze)\n",
    "\n",
    "#takes like \n",
    "# my_maze = helper.get_maze('small_maze.txt') \n",
    "# depth_first(my_maze)\n",
    "\n",
    "# my_maze = helper.get_maze('small_maze.txt') \n",
    "# dfs_no_reached(my_maze)"
   ]
  },
  {
   "cell_type": "code",
   "execution_count": 10,
   "metadata": {},
   "outputs": [
    {
     "data": {
      "image/png": "[encoded data removed]",
      "text/plain": [
       "<Figure size 640x480 with 1 Axes>"
      ]
     },
     "metadata": {
      "image/png": {
       "height": 269,
       "width": 534
      }
     },
     "output_type": "display_data"
    },
    {
     "name": "stdout",
     "output_type": "stream",
     "text": [
      "No solution found.\n"
     ]
    }
   ],
   "source": [
    "# Run BFS on the maze\n",
    "solution_path = breadth_first(maze)\n",
    "\n",
    "# Display the solution path\n",
    "if solution_path:\n",
    "    print(\"Solution path:\", solution_path)\n",
    "else:\n",
    "    print(\"No solution found.\")\n",
    "\n"
   ]
  },
  {
   "cell_type": "markdown",
   "metadata": {},
   "source": [
    "How does BFS and DFS deal with loops (cycles)?"
   ]
  },
  {
   "cell_type": "code",
   "execution_count": 11,
   "metadata": {},
   "outputs": [],
   "source": [
    "# Discussion"
   ]
  },
  {
   "cell_type": "markdown",
   "metadata": {},
   "source": [
    "Are your implementations complete and optimal? Explain why. What is the time and space complexity of each of **your** implementations?"
   ]
  },
  {
   "cell_type": "code",
   "execution_count": 12,
   "metadata": {},
   "outputs": [],
   "source": [
    "# Discussion"
   ]
  },
  {
   "cell_type": "markdown",
   "metadata": {},
   "source": [
    "## Task 3: Informed search: Implement greedy best-first search and A* search  [20 Points]\n",
    "\n",
    "You can use the map to estimate the distance from your current position to the goal using the Manhattan distance (see https://en.wikipedia.org/wiki/Taxicab_geometry) as a heuristic function. Both algorithms are based on Best-First search which requires only a small change from the BFS algorithm you have already implemented (see textbook/slides). "
   ]
  },
  {
   "cell_type": "code",
   "execution_count": 13,
   "metadata": {},
   "outputs": [],
   "source": [
    "# Your code goes here"
   ]
  },
  {
   "cell_type": "markdown",
   "metadata": {},
   "source": [
    "Are your implementations complete and optimal? What is the time and space complexity?"
   ]
  },
  {
   "cell_type": "code",
   "execution_count": 14,
   "metadata": {},
   "outputs": [],
   "source": [
    "# Discussion"
   ]
  },
  {
   "cell_type": "markdown",
   "metadata": {},
   "source": [
    "## Task 4: Comparison and discussion [20 Points] \n",
    "\n",
    "Run experiments to compare the implemented algorithms.\n",
    "\n",
    "How to deal with issues:\n",
    "\n",
    "* Your implementation returns unexpected results: Try to debug and fix the code. Visualizing the maze, the current path and the frontier after every step is very helpful. If the code still does not work, then mark the result with an asterisk (*) and describe the issue below the table.\n",
    "\n",
    "* Your implementation cannot consistently solve a specific maze and ends up in an infinite loop:\n",
    "    Debug. If it is a shortcoming of the algorithm/implementation, then put \"N/A*\" in the results table and describe why this is happening."
   ]
  },
  {
   "cell_type": "code",
   "execution_count": 15,
   "metadata": {},
   "outputs": [],
   "source": [
    "# Add code"
   ]
  },
  {
   "cell_type": "markdown",
   "metadata": {},
   "source": [
    "Complete the following table for each maze.\n",
    "\n",
    "__Small maze__\n",
    "\n",
    "| algorithm | path cost | # of nodes expanded | max tree depth | max # of nodes in memory | max frontier size |\n",
    "|-----------|-----------|----------------|----------------|---------------|-------------------|\n",
    "| BFS       |           |                |                |               |                   |\n",
    "| DFS       |           |                |                |               |                   |\n",
    "| GBS       |           |                |                |               |                   |\n",
    "| A*        |           |                |                |               |                   |\n",
    "\n",
    "__Medium Maze__\n",
    "\n",
    "..."
   ]
  },
  {
   "cell_type": "markdown",
   "metadata": {},
   "source": [
    "Present the results as using charts (see [Python Code Examples/charts and tables](../HOWTOs/charts_and_tables.ipynb)). "
   ]
  },
  {
   "cell_type": "code",
   "execution_count": 16,
   "metadata": {},
   "outputs": [],
   "source": [
    "# Add charts"
   ]
  },
  {
   "cell_type": "markdown",
   "metadata": {},
   "source": [
    "Discuss the most important lessons you have learned from implementing the different search strategies. "
   ]
  },
  {
   "cell_type": "code",
   "execution_count": 17,
   "metadata": {},
   "outputs": [],
   "source": [
    "# Add discussion"
   ]
  },
  {
   "cell_type": "markdown",
   "metadata": {},
   "source": [
    "## Graduate student advanced task: IDS and Multiple goals [10 Points]\n",
    "\n",
    "__Undergraduate students:__ This is a bonus task you can attempt if you like [+5 Bonus Points].\n",
    "\n",
    "Create a few mazes with multiple goals by adding one or two more goals to the medium size maze.\n",
    "Solve the maze with your implementations for DFS, BFS, and implement in addition IDS (iterative deepening search using DFS). \n",
    "\n",
    "Run experiments to show which implementations find the optimal solution and which do not. Discuss why that is the case."
   ]
  },
  {
   "cell_type": "code",
   "execution_count": 18,
   "metadata": {},
   "outputs": [],
   "source": [
    "# Your code/answer goes here"
   ]
  },
  {
   "cell_type": "markdown",
   "metadata": {},
   "source": [
    "## More advanced tasks to think about\n",
    "\n",
    "Instead of defining each square as a state, use only intersections as states. Now the storage requirement is reduced, but the path length between two intersections can be different. If we use total path length measured as the number of squares as path cost, how can we make sure that BFS and iterative deepening search is optimal? Change the code to do so."
   ]
  },
  {
   "cell_type": "code",
   "execution_count": 19,
   "metadata": {},
   "outputs": [],
   "source": [
    "# Your code/answer goes here"
   ]
  },
  {
   "cell_type": "markdown",
   "metadata": {},
   "source": [
    "Modify your A* search to add weights (see text book) and explore how different weights influence the result."
   ]
  },
  {
   "cell_type": "code",
   "execution_count": 20,
   "metadata": {},
   "outputs": [],
   "source": [
    "# Your code/answer goes here"
   ]
  },
  {
   "cell_type": "markdown",
   "metadata": {},
   "source": [
    "What happens if the agent does not know the layout of the maze in advance (i.e., faces an unkown, only partially observable environment)? How does the environment look then (PEAS description)? How would you implement a rational agent to solve the maze? What if the agent still has a GPS device to tell the distance to the goal?"
   ]
  },
  {
   "cell_type": "code",
   "execution_count": 21,
   "metadata": {},
   "outputs": [],
   "source": [
    "# Your code/answer goes here"
   ]
  }
 ],
 "metadata": {
  "kernelspec": {
   "display_name": "Python 3 (ipykernel)",
   "language": "python",
   "name": "python3"
  },
  "language_info": {
   "codemirror_mode": {
    "name": "ipython",
    "version": 3
   },
   "file_extension": ".py",
   "mimetype": "text/x-python",
   "name": "python",
   "nbconvert_exporter": "python",
   "pygments_lexer": "ipython3",
   "version": "3.11.2"
  }
 },
 "nbformat": 4,
 "nbformat_minor": 4
}
